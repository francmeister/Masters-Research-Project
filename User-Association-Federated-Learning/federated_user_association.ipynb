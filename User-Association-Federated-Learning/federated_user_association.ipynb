{
 "cells": [
  {
   "cell_type": "code",
   "execution_count": null,
   "metadata": {},
   "outputs": [],
   "source": [
    "# Cloning Github Repository and navigate into project folder\n",
    "!git clone https://github.com/francmeister/Masters-Research-Project.git"
   ]
  },
  {
   "cell_type": "code",
   "execution_count": null,
   "metadata": {},
   "outputs": [],
   "source": [
    "cd Masters-Research-Project/User-Association-Federated_learning/"
   ]
  },
  {
   "cell_type": "code",
   "execution_count": null,
   "metadata": {},
   "outputs": [],
   "source": [
    "import torch\n",
    "import torch.nn as nn\n",
    "import torch.optim as optim\n",
    "from torch.utils.data import TensorDataset, DataLoader\n",
    "from sklearn.model_selection import train_test_split\n",
    "import torch.nn.functional as F\n",
    "import numpy as np\n",
    "import random\n",
    "import os\n",
    "import time\n",
    "import gym\n",
    "import time\n",
    "import threading\n",
    "import multiprocessing\n",
    "from eMBB_UE import eMBB_UE\n",
    "from URLLC_UE import URLLC_UE\n",
    "from SBS import SBS\n",
    "from Communication_Channel import Communication_Channel\n",
    "from numpy import interp\n",
    "import math\n",
    "from NetworkEnv import NetworkEnv\n",
    "from global_entity import GLOBAL_ENTITY"
   ]
  },
  {
   "cell_type": "code",
   "execution_count": null,
   "metadata": {},
   "outputs": [],
   "source": [
    "\n",
    "#Create a Square grid of overlapping Access Points (3 APs) - 0 to 100 km both x and y\n",
    "\n",
    "x_grid = 100\n",
    "y_grid = 100\n",
    "access_point_radius = 70\n",
    "\n",
    "num_embb_users = 6\n",
    "num_urllc_users = 6\n",
    "all_users = []\n",
    "user_count = 1\n",
    "embb_user_count = 1\n",
    "urllc_user_count = 1\n",
    "access_point_count = 1\n",
    "access_points = []\n",
    "num_access_points = 3\n",
    "num_users = num_embb_users+num_urllc_users\n",
    "num_input_features_per_user = 4\n",
    "num_input_features = num_users*num_input_features_per_user\n",
    "num_output_features = num_users\n",
    "max_samples = 20\n",
    "comm_channel = Communication_Channel(1)"
   ]
  },
  {
   "cell_type": "code",
   "execution_count": null,
   "metadata": {},
   "outputs": [],
   "source": [
    "\n",
    "for x in range(0,num_embb_users):\n",
    "   embb_user = eMBB_UE(embb_user_count,user_count,100,600)\n",
    "   all_users.append(embb_user)\n",
    "   embb_user_count+=1\n",
    "   user_count+=1\n",
    "\n",
    "for x in range(0,num_urllc_users):\n",
    "   urllc_user = URLLC_UE(urllc_user_count,user_count,100,600)\n",
    "   all_users.append(urllc_user)\n",
    "   urllc_user_count+=1\n",
    "   user_count+=1\n",
    "\n",
    "for x in range(0,num_access_points):\n",
    "   access_point = SBS(access_point_count)\n",
    "   access_points.append(access_point)\n",
    "   access_point_count+=1\n",
    "\n",
    "access_point_coordinates = []\n",
    "for access_point in range(0, num_access_points):\n",
    "   x_coord = random.randint(0, x_grid)\n",
    "   y_coord = random.randint(0, y_grid)\n",
    "   access_point_coordinates.append((x_coord,y_coord))\n",
    "\n",
    "user_coordinates = []\n",
    "for user in range(0, num_users):\n",
    "   x_coord = random.randint(0, x_grid)\n",
    "   y_coord = random.randint(0, y_grid)\n",
    "   user_coordinates.append((x_coord,y_coord))\n",
    "\n",
    "coord_index = 0\n",
    "for access_point in access_points:\n",
    "   access_point.set_coordinates(access_point_coordinates[coord_index])\n",
    "   coord_index+=1\n",
    "\n",
    "coord_index = 0\n",
    "for user in all_users:\n",
    "   user.set_coordinates(user_coordinates[coord_index])\n",
    "   user.calculate_distances_from_access_point(access_point_coordinates,access_point_radius)\n",
    "   coord_index+=1\n",
    "\n",
    "\n",
    "for access_point in access_points:\n",
    "   access_point.find_users_within_distance_radius(access_point_radius, all_users)\n"
   ]
  },
  {
   "cell_type": "code",
   "execution_count": null,
   "metadata": {},
   "outputs": [],
   "source": [
    "\n",
    "global_entity = GLOBAL_ENTITY()\n",
    "global_entity.initialize_global_model(num_input_features+1,num_output_features)\n",
    "global_memory = global_entity.initialize_global_memory(max_samples,num_users,num_input_features_per_user,num_access_points)\n",
    "\n",
    "# print('global memory')\n",
    "# print(global_memory.storage)\n",
    "\n",
    "for access_point in access_points:\n",
    "   access_point.acquire_global_model(global_entity.global_model)\n",
    "   access_point.acquire_global_memory(global_memory)\n",
    "\n",
    "access_points[0].train_local_dnn()"
   ]
  }
 ],
 "metadata": {
  "language_info": {
   "name": "python"
  }
 },
 "nbformat": 4,
 "nbformat_minor": 2
}
